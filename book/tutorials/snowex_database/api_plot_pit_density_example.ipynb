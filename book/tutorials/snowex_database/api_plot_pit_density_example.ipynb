{
 "cells": [
  {
   "cell_type": "markdown",
   "metadata": {},
   "source": [
    "# Welcome to the API PT2!\n",
    "\n",
    "## Data Edition\n",
    "\n",
    "#### Goal - Filter down to the pit density we want and plot it"
   ]
  },
  {
   "cell_type": "markdown",
   "metadata": {},
   "source": [
    "### Step 1. Imports"
   ]
  },
  {
   "cell_type": "code",
   "execution_count": null,
   "metadata": {},
   "outputs": [],
   "source": [
    "# imports\n",
    "from datetime import date\n",
    "import geopandas as gpd\n",
    "import matplotlib.pyplot as plt\n",
    "from snowexsql.api import PointMeasurements, LayerMeasurements"
   ]
  },
  {
   "cell_type": "markdown",
   "metadata": {},
   "source": [
    "### Step 2. Find the pits in the Boise River Basin"
   ]
  },
  {
   "cell_type": "code",
   "execution_count": null,
   "metadata": {},
   "outputs": [],
   "source": [
    "# Find site names we can use\n",
    "print(LayerMeasurements().all_site_names)"
   ]
  },
  {
   "cell_type": "code",
   "execution_count": null,
   "metadata": {},
   "outputs": [],
   "source": [
    "# Get the first 1000 measurements from the Boise River Basin Site\n",
    "df = LayerMeasurements.from_filter(\n",
    "    type=\"density\",\n",
    "    site_name=\"Boise River Basin\",\n",
    "    limit=1000\n",
    ")\n",
    "\n",
    "# Explore the pits so we can find an interesting site\n",
    "df.loc[:, [\"site_id\", \"geom\"]].drop_duplicates().explore()"
   ]
  },
  {
   "cell_type": "markdown",
   "metadata": {},
   "source": [
    "### Step 3. Pick a point of interest"
   ]
  },
  {
   "cell_type": "code",
   "execution_count": null,
   "metadata": {
    "tags": [
     "nbsphinx-gallery",
     "nbsphinx-thumbnail"
    ]
   },
   "outputs": [],
   "source": [
    "# We noticed there are a lot of pits (timeseries pits) for Banner Open\n",
    "# Filter down to ONE timeseries\n",
    "site_id = \"Banner Open\"\n",
    "df = LayerMeasurements.from_filter(\n",
    "    type=\"density\",\n",
    "    site_id=site_id\n",
    ").set_crs(\"epsg:26911\")\n",
    "\n",
    "df.loc[:, [\"site_id\", \"geom\"]].drop_duplicates().explore()\n"
   ]
  },
  {
   "cell_type": "code",
   "execution_count": null,
   "metadata": {},
   "outputs": [],
   "source": [
    "# Get the mean of each date sampled\n",
    "df[\"value\"] = df[\"value\"].astype(float)\n",
    "df.set_index(\"date\", inplace=True)\n",
    "mean_values = df.groupby(df.index).mean()\n",
    "mean_values.head()"
   ]
  },
  {
   "cell_type": "markdown",
   "metadata": {},
   "source": [
    "### Notes on this mean\n",
    "\n",
    "Taking this `mean` as bulk density **could be flawed** if layers are overlapping or layers vary in thickness"
   ]
  },
  {
   "cell_type": "code",
   "execution_count": null,
   "metadata": {},
   "outputs": [],
   "source": [
    "# !pip install plotly\n",
    "import plotly.express as px\n",
    "# For rendering in readthedocs\n",
    "import plotly.offline as py\n",
    "py.init_notebook_mode(connected=True)"
   ]
  },
  {
   "cell_type": "code",
   "execution_count": null,
   "metadata": {},
   "outputs": [],
   "source": [
    "# Plot the timeseries of mean density\n",
    "fig = px.line(\n",
    "    mean_values, x=mean_values.index, y='value',\n",
    "    title=f'Mean Density - {site_id}',\n",
    "    labels={'value': 'Density', 'date': 'Date'}\n",
    ")\n",
    "\n",
    "fig.update_layout(\n",
    "    template='plotly_dark'\n",
    ")\n",
    "\n",
    "# Show the plot\n",
    "fig.show()\n",
    "\n",
    "# alternative matplotlib code\n",
    "# mean_values[\"value\"].plot()\n",
    "# plt.title('Mean Density by Date')\n",
    "# plt.xlabel('Date')\n",
    "# plt.ylabel('Mean Density')\n",
    "# plt.gcf().autofmt_xdate()\n",
    "# plt.show()"
   ]
  },
  {
   "cell_type": "code",
   "execution_count": null,
   "metadata": {},
   "outputs": [],
   "source": [
    "# Show more detail by using a box plot\n",
    "# make sure values are floats\n",
    "df[\"value\"] = df[\"value\"].astype(float)\n",
    "\n",
    "# make Make a box plot\n",
    "fig = px.box(df, x='date', y='value', notched=True, title='Pit Density by Date')\n",
    "fig.update_traces(hoverinfo='y+name')\n",
    "fig.update_layout(template='plotly_dark')\n",
    "\n",
    "# alternative matplotlib code\n",
    "# df.boxplot(by='date', column='value')\n",
    "# plt.title('Density Distribution for Banner by Date')\n",
    "# plt.suptitle('')  # Suppress the automatic title\n",
    "# plt.xlabel('Date')\n",
    "# plt.ylabel('Value')\n",
    "# plt.show()"
   ]
  },
  {
   "cell_type": "code",
   "execution_count": null,
   "metadata": {},
   "outputs": [],
   "source": []
  }
 ],
 "metadata": {
  "kernelspec": {
   "display_name": "Python 3 (ipykernel)",
   "language": "python",
   "name": "python3"
  },
  "language_info": {
   "codemirror_mode": {
    "name": "ipython",
    "version": 3
   },
   "file_extension": ".py",
   "mimetype": "text/x-python",
   "name": "python",
   "nbconvert_exporter": "python",
   "pygments_lexer": "ipython3",
   "version": "3.12.4"
  }
 },
 "nbformat": 4,
 "nbformat_minor": 4
}
