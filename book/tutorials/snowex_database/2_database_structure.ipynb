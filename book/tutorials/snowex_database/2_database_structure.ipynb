{
 "cells": [
  {
   "cell_type": "markdown",
   "id": "8d563d3c",
   "metadata": {},
   "source": [
    "# How is the Database Structured?\n",
    "\n",
    "The goal of the database is to hold as much of the SnowEx data in one place and make it easier to \n",
    "do research with. With that in mind follow the steps below to see how the the data base is structured.\n"
   ]
  },
  {
   "cell_type": "markdown",
   "id": "a9f0a9c7",
   "metadata": {},
   "source": [
    "### Where do datasets live (i.e. tables)?\n",
    "\n",
    "Data in the database lives in 1 of 4 places. \n",
    "\n",
    "<img src=\"./images/structure.png\" alt=\"table_structure\" width=\"1000px\">\n",
    "\n",
    "\n",
    "The 4th table is a table detailing the site informations. Lots and lots of metadata for which the API has not been written yet."
   ]
  },
  {
   "cell_type": "code",
   "execution_count": 3,
   "id": "979fad96",
   "metadata": {},
   "outputs": [],
   "source": [
    "from snowexsql.api import PointMeasurements, LayerMeasurements, RasterMeasurements"
   ]
  },
  {
   "cell_type": "markdown",
   "id": "07bf71eb",
   "metadata": {},
   "source": [
    "### What info is available?\n"
   ]
  },
  {
   "cell_type": "code",
   "execution_count": 10,
   "id": "8fd4e693",
   "metadata": {},
   "outputs": [
    {
     "name": "stdout",
     "output_type": "stream",
     "text": [
      "These are the available columns in the table:\n",
      " \n",
      "* version_number\n",
      "* equipment\n",
      "* value\n",
      "* latitude\n",
      "* longitude\n",
      "* northing\n",
      "* easting\n",
      "* elevation\n",
      "* utm_zone\n",
      "* geom\n",
      "* time\n",
      "* site_id\n",
      "* site_name\n",
      "* date\n",
      "* time_created\n",
      "* time_updated\n",
      "* id\n",
      "* doi\n",
      "* date_accessed\n",
      "* instrument\n",
      "* type\n",
      "* units\n",
      "* observers\n",
      "\n"
     ]
    }
   ],
   "source": [
    "# Import the class reflecting the points table in the db\n",
    "from snowexsql.api import PointMeasurements as measurements\n",
    "\n",
    "# Grab one measurment to see what attributes are available\n",
    "df = measurements.from_filter(type=\"density\", limit=1)\n",
    "\n",
    "# Print out the results nicely\n",
    "print(\"These are the available columns in the table:\\n \\n* {}\\n\".format('\\n* '.join(df.columns)))\n"
   ]
  },
  {
   "cell_type": "markdown",
   "id": "ba2df485",
   "metadata": {},
   "source": [
    "**Try this:** Using what we just did, but swap out PointMeasurements for LayerMeasurements.\n",
    "\n",
    "`RasterMeasurements` is still being built out for ease of use but it would still have some limitations. So for now it doesnt have the `from_filter` function.\n",
    "\n",
    "For more detail, checkout the readthedocs page on [database structure](https://snowexsql.readthedocs.io/en/latest/database_structure.html) to see how data gets categorized. "
   ]
  },
  {
   "cell_type": "markdown",
   "id": "6d106e6e",
   "metadata": {},
   "source": [
    "## Bonus Step: Learning to help yourself\n",
    "[snowexsql](https://github.com/SnowEx/snowexsql/) has a host of resources for you to  help your self. First when you are looking for something be sure to check the snowexsql's docs.\n",
    "There you will find notes on the database structure. datasets, and of course our API! \n",
    "\n",
    "### Database Usage/Examples\n",
    "* [snowexsql Code](https://github.com/SnowEx/snowexsql/) \n",
    "* [snowexsql Documentation](https://snowexsql.readthedocs.io/en/latest/) \n",
    "\n",
    "### Database Building/Notes\n",
    "* [snowex_db Code](https://github.com/SnowEx/snowex_db/) \n",
    "* [snowex_db Documentation](https://snowex_db.readthedocs.io/en/latest/) \n",
    "\n",
    "### Extra Resources\n",
    "* [PostGIS Functions](https://postgis.net/docs/manual-3.0/PostGIS_Special_Functions_Index.html) - POSTGIS is the extension that make postgres have GIS capabilities. This is here as a resource but it will be discussed in more detail later.\n",
    "* [GeoAlchemy2](https://geoalchemy-2.readthedocs.io/en/0.8.4/) - geoalchemy is library that allows us to leverage postgis and other gis functions\n",
    "* [SqlAlchemy](https://docs.sqlalchemy.org/en/14/)            - sqlalchemy is the underlying library that lets us map python to databases\n",
    "* [Hackweek DB Cheat Sheet](https://snowexsql.readthedocs.io/en/latest/cheat_sheet.html) - This is a cheat sheet we put together to help you use the database.\n"
   ]
  },
  {
   "cell_type": "markdown",
   "id": "fbe9ae13",
   "metadata": {},
   "source": [
    "## Recap \n",
    "You just explored the database structure and discussed how they differ.\n",
    "\n",
    "**You should know:**\n",
    "* Which tables matter to a snowex scientist\n",
    "* What columns you can work with (or how to get the available columns)\n",
    "* Some resources to begin helping yourself.\n",
    "\n",
    "If you don't feel comfortable with these, you are probably not alone, let's discuss it!"
   ]
  }
 ],
 "metadata": {
  "kernelspec": {
   "display_name": "Python 3 (ipykernel)",
   "language": "python",
   "name": "python3"
  },
  "language_info": {
   "codemirror_mode": {
    "name": "ipython",
    "version": 3
   },
   "file_extension": ".py",
   "mimetype": "text/x-python",
   "name": "python",
   "nbconvert_exporter": "python",
   "pygments_lexer": "ipython3",
   "version": "3.8.10"
  }
 },
 "nbformat": 4,
 "nbformat_minor": 5
}
