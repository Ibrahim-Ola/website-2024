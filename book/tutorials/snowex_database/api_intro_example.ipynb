{
 "cells": [
  {
   "cell_type": "markdown",
   "metadata": {},
   "source": [
    "# Welcome to the API!\n",
    "\n",
    "**Goal**: Easy programmatic access to the database with **no user SQL**\n",
    "\n",
    "\n",
    "## Notes\n",
    "\n",
    " * This is not a REST API, more of an SDK\n",
    " * Current access is for *point* and *layer* data\n",
    " * Funtions return **lists** or **Geopandas Dataframes**"
   ]
  },
  {
   "cell_type": "markdown",
   "metadata": {},
   "source": [
    "### Step 1. Import the classes, explore them"
   ]
  },
  {
   "cell_type": "code",
   "execution_count": null,
   "metadata": {},
   "outputs": [],
   "source": [
    "# imports\n",
    "from datetime import date\n",
    "import geopandas as gpd\n",
    "from snowexsql.api import PointMeasurements, LayerMeasurements"
   ]
  },
  {
   "cell_type": "code",
   "execution_count": null,
   "metadata": {},
   "outputs": [],
   "source": [
    "# The main functions we will use are `from_area` and `from_filter` like this\n",
    "df = PointMeasurements.from_filter(\n",
    "    date=date(2020, 5, 28), instrument='camera'\n",
    ")\n",
    "df.head()"
   ]
  },
  {
   "cell_type": "markdown",
   "metadata": {},
   "source": [
    "#### Notice:\n",
    " * We did not need to manage SQL\n",
    " * We got a geopandas array\n",
    " * We filtered on specific attributes known to be in the database"
   ]
  },
  {
   "cell_type": "markdown",
   "metadata": {},
   "source": [
    "#### How do I know what to filter by?"
   ]
  },
  {
   "cell_type": "code",
   "execution_count": null,
   "metadata": {},
   "outputs": [],
   "source": [
    "# Find what you can filter by\n",
    "print(PointMeasurements.ALLOWED_QRY_KWARGS)\n",
    "print(LayerMeasurements.ALLOWED_QRY_KWARGS)"
   ]
  },
  {
   "cell_type": "markdown",
   "metadata": {},
   "source": [
    "#### How do I know what values work for filtering?"
   ]
  },
  {
   "cell_type": "code",
   "execution_count": null,
   "metadata": {},
   "outputs": [],
   "source": [
    "print(PointMeasurements().all_observers)"
   ]
  },
  {
   "cell_type": "markdown",
   "metadata": {},
   "source": [
    "### Try it out\n",
    "\n",
    "* What instrument could you filter by for PointData?\n",
    "* What site names could you filter by for LayerData?"
   ]
  },
  {
   "cell_type": "markdown",
   "metadata": {},
   "source": [
    "Notice we instantiate the class \n",
    "`PointMeasurements()`\n",
    "Before calling the property `.all_observers`"
   ]
  },
  {
   "cell_type": "code",
   "execution_count": null,
   "metadata": {},
   "outputs": [],
   "source": [
    "# <YOUR CODE HERE>"
   ]
  },
  {
   "cell_type": "code",
   "execution_count": null,
   "metadata": {},
   "outputs": [],
   "source": [
    "# Explore the points\n",
    "df.crs\n",
    "df.to_crs(\"EPSG:4326\").loc[:,[\"id\", \"value\", \"type\", \"geom\", \"instrument\"]].explore()"
   ]
  },
  {
   "cell_type": "markdown",
   "metadata": {},
   "source": [
    "#### What if I have a point or a shapefile\n",
    "\n",
    "Both the PointMeasurement and LayerMeasurement class have a function called `from_area`\n",
    "that takes either a `shapely` polygon or a `shapely` point and a radius as well as the same\n",
    "filter kwargs available in `.from_filter`\n"
   ]
  },
  {
   "cell_type": "code",
   "execution_count": null,
   "metadata": {},
   "outputs": [],
   "source": [
    "# Set up a fake shapefile\n",
    "gdf = gpd.GeoDataFrame(\n",
    "    geometry=gpd.points_from_xy(\n",
    "        [743766.4794971556], [4321444.154620216], crs=\"epsg:26912\"\n",
    "    ).buffer(2000.0)\n",
    ").set_crs(\"epsg:26912\")\n",
    "\n",
    "# This is the area we will filter to\n",
    "gdf.explore()"
   ]
  },
  {
   "cell_type": "code",
   "execution_count": null,
   "metadata": {},
   "outputs": [],
   "source": [
    "# Get density near the point\n",
    "df = LayerMeasurements.from_area(\n",
    "    type=\"density\",\n",
    "    shp=gdf.iloc[0].geometry,\n",
    ")\n",
    "\n",
    "df.to_crs(\"EPSG:4326\").loc[:,[\"id\", \"depth\", \"value\", \"type\", \"geom\"]].explore()"
   ]
  },
  {
   "cell_type": "markdown",
   "metadata": {},
   "source": [
    "### How much filtering is enough? "
   ]
  },
  {
   "cell_type": "markdown",
   "metadata": {},
   "source": [
    "I got a `LargeQueryCheckException`\n",
    "\n",
    "GIVE ME THE DATA PLEASE"
   ]
  },
  {
   "cell_type": "code",
   "execution_count": null,
   "metadata": {
    "tags": [
     "nbsphinx-gallery",
     "nbsphinx-thumbnail"
    ]
   },
   "outputs": [],
   "source": [
    "# This query will fail\n",
    "df = PointMeasurements.from_filter(\n",
    "    instrument=\"magnaprobe\",\n",
    ")"
   ]
  },
  {
   "cell_type": "code",
   "execution_count": null,
   "metadata": {},
   "outputs": [],
   "source": [
    "# Th queries will pass\n",
    "df = PointMeasurements.from_filter(\n",
    "    instrument=\"magnaprobe\",\n",
    "    limit=100\n",
    ")\n",
    "\n",
    "df.head()"
   ]
  },
  {
   "cell_type": "markdown",
   "metadata": {},
   "source": [
    "### DANGER ZONE\n",
    "If you need more than 1000 points returned, you can specify so with the `limit`\n",
    "\n",
    "The intention is to be aware of how much data will be returned"
   ]
  },
  {
   "cell_type": "code",
   "execution_count": null,
   "metadata": {},
   "outputs": [],
   "source": [
    "# DANGER ZONE\n",
    "# If you need more than 1000 points returned, you can specify so with the limit\n",
    "df = PointMeasurements.from_filter(\n",
    "    date=date(2020, 1, 28),\n",
    "    instrument=\"magnaprobe\",\n",
    "    limit=3000\n",
    ")\n",
    "df.head()"
   ]
  },
  {
   "cell_type": "markdown",
   "metadata": {},
   "source": [
    "# THE END\n",
    "\n",
    "### Go forth and explore"
   ]
  },
  {
   "cell_type": "code",
   "execution_count": null,
   "metadata": {},
   "outputs": [],
   "source": []
  }
 ],
 "metadata": {
  "kernelspec": {
   "display_name": "Python 3 (ipykernel)",
   "language": "python",
   "name": "python3"
  },
  "language_info": {
   "codemirror_mode": {
    "name": "ipython",
    "version": 3
   },
   "file_extension": ".py",
   "mimetype": "text/x-python",
   "name": "python",
   "nbconvert_exporter": "python",
   "pygments_lexer": "ipython3",
   "version": "3.12.4"
  }
 },
 "nbformat": 4,
 "nbformat_minor": 4
}
